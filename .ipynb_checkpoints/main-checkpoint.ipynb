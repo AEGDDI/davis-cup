{
 "cells": [
  {
   "cell_type": "markdown",
   "metadata": {},
   "source": [
    "# Libraries"
   ]
  },
  {
   "cell_type": "code",
   "execution_count": 5,
   "metadata": {},
   "outputs": [],
   "source": [
    "from selenium import webdriver\n",
    "from selenium.webdriver.common.by import By\n",
    "from selenium.webdriver.support.ui import WebDriverWait\n",
    "from selenium.webdriver.support import expected_conditions as EC\n",
    "import time\n",
    "from selenium.common.exceptions import TimeoutException\n",
    "import pandas as pd"
   ]
  },
  {
   "cell_type": "code",
   "execution_count": 6,
   "metadata": {},
   "outputs": [],
   "source": [
    "user = \"aldi\""
   ]
  },
  {
   "cell_type": "markdown",
   "metadata": {},
   "source": [
    "import external functions"
   ]
  },
  {
   "cell_type": "code",
   "execution_count": 7,
   "metadata": {},
   "outputs": [],
   "source": [
    "%run functions.ipynb\n"
   ]
  },
  {
   "cell_type": "markdown",
   "metadata": {},
   "source": [
    "# Retrieve all years links"
   ]
  },
  {
   "cell_type": "code",
   "execution_count": 8,
   "metadata": {
    "scrolled": true
   },
   "outputs": [
    {
     "name": "stderr",
     "output_type": "stream",
     "text": [
      "C:\\ProgramData\\Anaconda3\\lib\\site-packages\\ipykernel_launcher.py:8: DeprecationWarning: executable_path has been deprecated, please pass in a Service object\n",
      "  \n"
     ]
    },
    {
     "name": "stdout",
     "output_type": "stream",
     "text": [
      "//a[text()='2017']\n",
      "<selenium.webdriver.remote.webelement.WebElement (session=\"6e12afd1560f7b747790f092be47dc03\", element=\"9BF80EE6B7659D8A0C2F511571049914_element_82\")>\n"
     ]
    },
    {
     "name": "stderr",
     "output_type": "stream",
     "text": [
      "C:\\ProgramData\\Anaconda3\\lib\\site-packages\\ipykernel_launcher.py:7: DeprecationWarning: executable_path has been deprecated, please pass in a Service object\n",
      "  import sys\n"
     ]
    },
    {
     "name": "stdout",
     "output_type": "stream",
     "text": [
      "match: https://www.daviscup.com/en/draws-results/tie.aspx?id=M-DC-2017-WG-M-ARG-ITA-01\n",
      "matches df downloaded\n",
      "players df downloaded\n",
      "match: https://www.daviscup.com/en/draws-results/tie.aspx?id=M-DC-2017-WG-M-BEL-GER-01\n",
      "matches df downloaded\n",
      "players df downloaded\n",
      "match: https://www.daviscup.com/en/draws-results/tie.aspx?id=M-DC-2017-WG-M-CZE-AUS-01\n",
      "matches df downloaded\n",
      "players df downloaded\n",
      "match: https://www.daviscup.com/en/draws-results/tie.aspx?id=M-DC-2017-WG-M-SUI-USA-01\n",
      "matches df downloaded\n",
      "players df downloaded\n",
      "match: https://www.daviscup.com/en/draws-results/tie.aspx?id=M-DC-2017-WG-M-JPN-FRA-01\n",
      "matches df downloaded\n",
      "players df downloaded\n",
      "match: https://www.daviscup.com/en/draws-results/tie.aspx?id=M-DC-2017-WG-M-CAN-GBR-01\n",
      "matches df downloaded\n",
      "players df downloaded\n",
      "match: https://www.daviscup.com/en/draws-results/tie.aspx?id=M-DC-2017-WG-M-RUS-SRB-01\n",
      "[ERROR] Exception occurred: list index out of range\n",
      "players df downloaded\n",
      "match: https://www.daviscup.com/en/draws-results/tie.aspx?id=M-DC-2017-WG-M-ESP-CRO-01\n",
      "matches df downloaded\n",
      "players df downloaded\n",
      "match: https://www.daviscup.com/en/draws-results/tie.aspx?id=M-DC-2017-WG-M-ITA-BEL-01\n",
      "matches df downloaded\n",
      "players df downloaded\n",
      "match: https://www.daviscup.com/en/draws-results/tie.aspx?id=M-DC-2017-WG-M-AUS-USA-01\n",
      "matches df downloaded\n",
      "players df downloaded\n",
      "match: https://www.daviscup.com/en/draws-results/tie.aspx?id=M-DC-2017-WG-M-FRA-GBR-01\n",
      "matches df downloaded\n",
      "players df downloaded\n",
      "match: https://www.daviscup.com/en/draws-results/tie.aspx?id=M-DC-2017-WG-M-SRB-ESP-01\n",
      "matches df downloaded\n",
      "players df downloaded\n",
      "match: https://www.daviscup.com/en/draws-results/tie.aspx?id=M-DC-2017-WG-M-BEL-AUS-01\n",
      "matches df downloaded\n",
      "players df downloaded\n",
      "match: https://www.daviscup.com/en/draws-results/tie.aspx?id=M-DC-2017-WG-M-FRA-SRB-01\n",
      "matches df downloaded\n",
      "players df downloaded\n",
      "match: https://www.daviscup.com/en/draws-results/tie.aspx?id=M-DC-2017-WG-M-BEL-FRA-01\n",
      "matches df downloaded\n",
      "players df downloaded\n",
      "Total number of rows in matches_df: 140\n",
      "Total number of rows in players_df: 150\n"
     ]
    }
   ],
   "source": [
    "# webpage to scrape\n",
    "url = \"https://www.daviscup.com/en/draws-results/historic-format/world-group.aspx\"\n",
    "\n",
    "# Path to the ChromeDriver\n",
    "chrome_driver_path = f\"C:/Users/{user}/Downloads/chromedriver.exe\"\n",
    "\n",
    "# Initialize the WebDriver\n",
    "driver = webdriver.Chrome(executable_path=chrome_driver_path)\n",
    "driver.get(url)\n",
    "driver.maximize_window()\n",
    "wait = WebDriverWait(driver, 15)\n",
    "\n",
    "# Click on Accept All Cookies button\n",
    "acceptCookie_Btn = wait.until(EC.element_to_be_clickable((By.ID, \"onetrust-accept-btn-handler\")))\n",
    "driver.execute_script(\"arguments[0].click();\", acceptCookie_Btn)\n",
    "\n",
    "# Initialize an empty DataFrame to store all the data\n",
    "final_df = pd.DataFrame()\n",
    "\n",
    "# Loop through selected years\n",
    "for year in range(2017,2016 , -1): \n",
    "    # Click on the dropdown arrow\n",
    "    wait.until(EC.element_to_be_clickable((By.XPATH, \"//div[@class='selected']//div[@class='arrow']\"))).click()\n",
    "    time.sleep(4)  # Introduce a delay before clicking the element\n",
    "    year_xpath = f\"//a[text()='{year}']\"\n",
    "    print(year_xpath)\n",
    "    \n",
    "    try:\n",
    "        # Locate the element for the specific year and click it\n",
    "        year_element = wait.until(EC.presence_of_element_located((By.XPATH, year_xpath)))\n",
    "        print(year_element)        \n",
    "        # Click on the element\n",
    "        year_element.click()\n",
    "        \n",
    "        # Wait for the page to load\n",
    "        driver.implicitly_wait(10)  # You can adjust the waiting time as needed\n",
    "        time.sleep(10)\n",
    "\n",
    "        # Find all links with class \"tie-link\" within the tables\n",
    "        tie_links = driver.find_elements(By.CSS_SELECTOR, \"table.tie.ng-scope a.tie-link\")\n",
    "\n",
    "        # Initialize a list to store the extracted links\n",
    "        links = []\n",
    "\n",
    "        # Extract the links\n",
    "        for link in tie_links:\n",
    "            href = link.get_attribute(\"href\")\n",
    "            links.append(href)\n",
    "\n",
    "        # Call the function to scrape and transform the data\n",
    "        matches_df, players_df = to_df(links)\n",
    "        # Cleaning DataFrames\n",
    "        cleaned_matches_df = clean_matches_df(matches_df)\n",
    "        cleaned_players_df = clean_players_df(players_df)\n",
    "\n",
    "        # Merging DataFrames\n",
    "        merged_df = merge_data_frames(cleaned_matches_df, cleaned_players_df)\n",
    "        # Add a column with the respective year information\n",
    "        merged_df['Year'] = year\n",
    "\n",
    "        # Append data to the final DataFrame\n",
    "#         final_df = pd.concat([final_df, merged_df], ignore_index=True)\n",
    "        # Save the current year's data to a separate Excel file\n",
    "        year_file_name = f\"davis_{year}.xlsx\"\n",
    "        merged_df.to_excel(year_file_name, index=False)\n",
    "\n",
    "    except TimeoutException:\n",
    "        print(f\"TimeoutException occurred while locating element for year {year}. Skipping...\")\n",
    "        continue  # Skip to the next iteration if element not found within the timeout\n",
    "        \n",
    "# Save the final DataFrame to an Excel file\n",
    "#final_df.to_excel(\"old_system.xlsx\", index=False)\n"
   ]
  },
  {
   "cell_type": "code",
   "execution_count": 10,
   "metadata": {},
   "outputs": [
    {
     "name": "stdout",
     "output_type": "stream",
     "text": [
      "[ERROR] Exception occurred: list index out of range\n"
     ]
    }
   ],
   "source": [
    "link = \"https://www.daviscup.com/en/draws-results/tie.aspx?id=M-DC-2017-WG-M-RUS-SRB-01\"\n",
    "matches_df = extract_matches_df(link)\n"
   ]
  },
  {
   "cell_type": "markdown",
   "metadata": {},
   "source": [
    "In a year I have 15 matches (number of link), each match has a max number of 5 matches and on avg 4 matches. The number of single matches should be therefore between 60 and 70. We have two observations (one for each player or team) for each match for a total of 120/140 rows (max 75*2 = 150).\n",
    "\n",
    "We have 5 players in each team, two team in each match, and 15 matches for a total of (5 * 2 * 15) 150 players/teams.\n",
    "\n",
    "players of teams advancing to the next stage appear more than ones with the same information. it would be efficient to not repeat the data collection for those observations."
   ]
  }
 ],
 "metadata": {
  "kernelspec": {
   "display_name": "Python 3",
   "language": "python",
   "name": "python3"
  },
  "language_info": {
   "codemirror_mode": {
    "name": "ipython",
    "version": 3
   },
   "file_extension": ".py",
   "mimetype": "text/x-python",
   "name": "python",
   "nbconvert_exporter": "python",
   "pygments_lexer": "ipython3",
   "version": "3.7.3"
  }
 },
 "nbformat": 4,
 "nbformat_minor": 2
}
