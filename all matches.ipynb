{
 "cells": [
  {
   "cell_type": "code",
   "execution_count": 17,
   "metadata": {
    "scrolled": true
   },
   "outputs": [
    {
     "name": "stderr",
     "output_type": "stream",
     "text": [
      "C:\\ProgramData\\Anaconda3\\lib\\site-packages\\ipykernel_launcher.py:5: DeprecationWarning: executable_path has been deprecated, please pass in a Service object\n",
      "  \"\"\"\n"
     ]
    },
    {
     "name": "stdout",
     "output_type": "stream",
     "text": [
      "https://www.daviscup.com/en/draws-results/tie.aspx?id=M-DC-2018-WG-M-FRA-NED-01\n",
      "https://www.daviscup.com/en/draws-results/tie.aspx?id=M-DC-2018-WG-M-ITA-JPN-01\n",
      "https://www.daviscup.com/en/draws-results/tie.aspx?id=M-DC-2018-WG-M-GBR-ESP-01\n",
      "https://www.daviscup.com/en/draws-results/tie.aspx?id=M-DC-2018-WG-M-AUS-GER-01\n",
      "https://www.daviscup.com/en/draws-results/tie.aspx?id=M-DC-2018-WG-M-KAZ-SUI-01\n",
      "https://www.daviscup.com/en/draws-results/tie.aspx?id=M-DC-2018-WG-M-CAN-CRO-01\n",
      "https://www.daviscup.com/en/draws-results/tie.aspx?id=M-DC-2018-WG-M-USA-SRB-01\n",
      "https://www.daviscup.com/en/draws-results/tie.aspx?id=M-DC-2018-WG-M-HUN-BEL-01\n",
      "https://www.daviscup.com/en/draws-results/tie.aspx?id=M-DC-2018-WG-M-FRA-ITA-01\n",
      "https://www.daviscup.com/en/draws-results/tie.aspx?id=M-DC-2018-WG-M-ESP-GER-01\n",
      "https://www.daviscup.com/en/draws-results/tie.aspx?id=M-DC-2018-WG-M-KAZ-CRO-01\n",
      "https://www.daviscup.com/en/draws-results/tie.aspx?id=M-DC-2018-WG-M-USA-BEL-01\n",
      "https://www.daviscup.com/en/draws-results/tie.aspx?id=M-DC-2018-WG-M-FRA-ESP-01\n",
      "https://www.daviscup.com/en/draws-results/tie.aspx?id=M-DC-2018-WG-M-CRO-USA-01\n",
      "https://www.daviscup.com/en/draws-results/tie.aspx?id=M-DC-2018-WG-M-FRA-CRO-01\n"
     ]
    }
   ],
   "source": [
    "from selenium import webdriver\n",
    "from selenium.webdriver.common.by import By\n",
    "\n",
    "# Initialize Selenium WebDriver\n",
    "driver = webdriver.Chrome(executable_path=\"C:/Users/aldi/Downloads/chromedriver.exe\")\n",
    "\n",
    "# URL of the webpage\n",
    "url = \"https://www.daviscup.com/en/draws-results/historic-format/world-group.aspx\"\n",
    "\n",
    "# Navigate to the webpage\n",
    "driver.get(url)\n",
    "\n",
    "try:\n",
    "    # Wait for the page to load\n",
    "    driver.implicitly_wait(10)  # You can adjust the waiting time as needed\n",
    "\n",
    "    # Find all links with class \"tie-link\" within the tables\n",
    "    tie_links = driver.find_elements(By.CSS_SELECTOR, \"table.tie.ng-scope a.tie-link\")\n",
    "\n",
    "    # Initialize a list to store the extracted links\n",
    "    links = []\n",
    "\n",
    "    # Extract the links\n",
    "    for link in tie_links:\n",
    "        href = link.get_attribute(\"href\")\n",
    "        links.append(href)\n",
    "\n",
    "    # Print the extracted links\n",
    "    for link in links:\n",
    "        print(link)\n",
    "\n",
    "except Exception as e:\n",
    "    print(\"Error:\", str(e))\n",
    "finally:\n",
    "    driver.quit()\n"
   ]
  },
  {
   "cell_type": "code",
   "execution_count": null,
   "metadata": {},
   "outputs": [],
   "source": [
    "from selenium import webdriver\n",
    "from selenium.webdriver.common.by import By\n",
    "\n",
    "# Initialize Selenium WebDriver\n",
    "driver = webdriver.Chrome(executable_path=\"C:/Users/aldi/Downloads/chromedriver.exe\")\n",
    "\n",
    "# URL of the webpage\n",
    "url = \"https://www.daviscup.com/en/draws-results/historic-format/world-group.aspx\"\n",
    "\n",
    "# Navigate to the webpage\n",
    "driver.get(url)\n",
    "\n",
    "try:\n",
    "    # Wait for the page to load\n",
    "    driver.implicitly_wait(10)  # You can adjust the waiting time as needed\n",
    "\n",
    "    # Find all links with class \"tie-link\" within the tables\n",
    "    tie_links = driver.find_elements(By.CSS_SELECTOR, \"table.tie.ng-scope a.tie-link\")\n",
    "\n",
    "    # Initialize a list to store the extracted links\n",
    "    links = []\n",
    "\n",
    "    # Extract the links\n",
    "    for link in tie_links:\n",
    "        href = link.get_attribute(\"href\")\n",
    "        links.append(href)\n",
    "\n",
    "    # Iterate through the links and apply the code to each link\n",
    "    for link in links:\n",
    "        # Create a new Chrome WebDriver for each link\n",
    "        driver = webdriver.Chrome(executable_path=\"C:/Users/aldi/Downloads/chromedriver.exe\")\n",
    "        driver.get(link)\n",
    "\n",
    "        # Apply the code you provided for each link\n",
    "        # ... (Place the code here)\n",
    "\n",
    "        # Close the WebDriver for the current link\n",
    "        driver.quit()\n",
    "\n",
    "except Exception as e:\n",
    "    print(\"Error:\", str(e))\n",
    "finally:\n",
    "    driver.quit()\n"
   ]
  }
 ],
 "metadata": {
  "kernelspec": {
   "display_name": "Python 3",
   "language": "python",
   "name": "python3"
  },
  "language_info": {
   "codemirror_mode": {
    "name": "ipython",
    "version": 3
   },
   "file_extension": ".py",
   "mimetype": "text/x-python",
   "name": "python",
   "nbconvert_exporter": "python",
   "pygments_lexer": "ipython3",
   "version": "3.7.3"
  }
 },
 "nbformat": 4,
 "nbformat_minor": 2
}
