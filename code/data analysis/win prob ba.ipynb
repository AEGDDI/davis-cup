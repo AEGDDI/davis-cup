{
 "cells": [
  {
   "cell_type": "code",
   "execution_count": 10,
   "metadata": {},
   "outputs": [],
   "source": [
    "import pandas as pd\n",
    "from getpass import getuser\n"
   ]
  },
  {
   "cell_type": "code",
   "execution_count": 11,
   "metadata": {},
   "outputs": [],
   "source": [
    "# Get the current user's name\n",
    "user = getuser()\n",
    "\n",
    "# Path to the data file\n",
    "file_path = f\"C:/Users/{user}/Documents/GitHub/davis-cup/data/combined_davis.xlsx\"\n",
    "\n",
    "# Load the dataset\n",
    "davis_cup_data = pd.read_excel(file_path)\n"
   ]
  },
  {
   "cell_type": "markdown",
   "metadata": {},
   "source": [
    "# Mean difference before and after the change"
   ]
  },
  {
   "cell_type": "code",
   "execution_count": 12,
   "metadata": {},
   "outputs": [
    {
     "name": "stdout",
     "output_type": "stream",
     "text": [
      "Win Probability Pre-2019: 0.39275766016713093\n",
      "Win Probability Post-2019: 0.43243243243243246\n"
     ]
    }
   ],
   "source": [
    "# Grouping the dataset in pairs to represent each match\n",
    "matches = [davis_cup_data.iloc[i:i+2] for i in range(0, len(davis_cup_data), 2)]\n",
    "\n",
    "# Function to determine the favorite team for each match\n",
    "def determine_favorite_for_match(match):\n",
    "    # Extracting rankings for both teams in the match\n",
    "    rankings = []\n",
    "    for _, row in match.iterrows():\n",
    "        # Convert rankings to numeric, treating non-numeric as NaN\n",
    "        single_rank = pd.to_numeric(row['Single Ranking_Player1'], errors='coerce') if pd.notna(row['Single Ranking_Player1']) else pd.to_numeric(row['Doubles Ranking_Player1'], errors='coerce')\n",
    "        rankings.append((row['Team Name'], single_rank))\n",
    "\n",
    "    # Sort by ranking (lower ranking is better) and handle missing rankings\n",
    "    rankings = [team for team in sorted(rankings, key=lambda x: (pd.isna(x[1]), x[1]))]\n",
    "\n",
    "    # Favorite team is the one with the lower ranking\n",
    "    return rankings[0][0] if not pd.isna(rankings[0][1]) else None\n",
    "\n",
    "# Identifying the favorite team and the winning team for each match\n",
    "match_results = []\n",
    "for match in matches:\n",
    "    favorite = determine_favorite_for_match(match)\n",
    "    winner = match.iloc[0]['Team Name'] if match.iloc[0]['Team Name'] == match.iloc[1]['Player 1'] else match.iloc[1]['Team Name']\n",
    "    year = match.iloc[0]['Year']\n",
    "    match_results.append({'Year': year, 'Favorite': favorite, 'Winner': winner})\n",
    "\n",
    "# Converting to DataFrame\n",
    "match_results_df = pd.DataFrame(match_results)\n",
    "\n",
    "# Categorizing matches as pre-2019 or post-2019\n",
    "match_results_df['Period'] = match_results_df['Year'].apply(lambda x: 'Pre-2019' if x < 2019 else 'Post-2019')\n",
    "\n",
    "# Calculating if the favorite won\n",
    "match_results_df['Favorite_Win'] = match_results_df['Favorite'] == match_results_df['Winner']\n",
    "\n",
    "# Calculating win probabilities\n",
    "win_prob_pre_2019 = match_results_df[match_results_df['Period'] == 'Pre-2019']['Favorite_Win'].mean()\n",
    "win_prob_post_2019 = match_results_df[match_results_df['Period'] == 'Post-2019']['Favorite_Win'].mean()\n",
    "\n",
    "print(f\"Win Probability Pre-2019: {win_prob_pre_2019}\")\n",
    "print(f\"Win Probability Post-2019: {win_prob_post_2019}\")\n"
   ]
  },
  {
   "cell_type": "markdown",
   "metadata": {},
   "source": [
    "# statistical significance tests"
   ]
  },
  {
   "cell_type": "code",
   "execution_count": 13,
   "metadata": {},
   "outputs": [
    {
     "data": {
      "text/plain": [
       "(0.25416275440175795, 0.6141590869908642)"
      ]
     },
     "execution_count": 13,
     "metadata": {},
     "output_type": "execute_result"
    }
   ],
   "source": [
    "from scipy.stats import chi2_contingency\n",
    "\n",
    "# Creating a contingency table for win rates pre- and post-2019\n",
    "contingency_table = pd.crosstab(match_results_df['Period'], match_results_df['Favorite_Win'])\n",
    "\n",
    "# Performing the chi-square test\n",
    "chi2, p, _, _ = chi2_contingency(contingency_table)\n",
    "\n",
    "chi2, p\n"
   ]
  },
  {
   "cell_type": "markdown",
   "metadata": {},
   "source": [
    "**Interpretation:**\n",
    "\n",
    "*Chi-square Statistic*: This value indicates the difference between the observed and expected frequencies in the contingency table. A higher value suggests a greater discrepancy.\n",
    "\n",
    "*p-value*: The p-value is used to determine the statistical significance of the result. A common threshold for significance is 0.05.\n",
    "\n",
    "Since the p-value (*p* ≈ 0.614) is much higher than 0.05, we fail to reject the null hypothesis. This suggests that there is no statistically significant difference in the win rates of favorite teams before and after the 2019 Davis Cup format change, based on the data we have."
   ]
  }
 ],
 "metadata": {
  "kernelspec": {
   "display_name": "Python 3",
   "language": "python",
   "name": "python3"
  },
  "language_info": {
   "codemirror_mode": {
    "name": "ipython",
    "version": 3
   },
   "file_extension": ".py",
   "mimetype": "text/x-python",
   "name": "python",
   "nbconvert_exporter": "python",
   "pygments_lexer": "ipython3",
   "version": "3.7.3"
  }
 },
 "nbformat": 4,
 "nbformat_minor": 2
}
