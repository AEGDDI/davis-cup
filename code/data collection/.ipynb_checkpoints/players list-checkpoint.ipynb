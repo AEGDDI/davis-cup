{
 "cells": [
  {
   "cell_type": "code",
   "execution_count": 8,
   "metadata": {},
   "outputs": [],
   "source": [
    "import pandas as pd\n",
    "\n",
    "user = \"aldi\" \n",
    "# Load the dataset\n",
    "file_path = f\"C:/Users/{user}/Documents/GitHub/davis-cup/data/combined_davis.xlsx\"  # Replace with your actual file path\n",
    "df = pd.read_excel(file_path)\n",
    "\n",
    "# Extract the relevant columns and rename them\n",
    "# Use .copy() to avoid SettingWithCopyWarning\n",
    "df_extracted = df[['Stage', 'Player 1', 'Player 2', 'Year']].copy()\n",
    "df_extracted.rename(columns={'Stage': 'Match', 'Player 1': 'P1T1', 'Player 2': 'P2T1'}, inplace=True)\n",
    "\n",
    "# Helper function to pair rows\n",
    "def pair_rows(df):\n",
    "    paired_rows = []\n",
    "    for i in range(0, len(df), 2):\n",
    "        if i+1 < len(df):\n",
    "            row1 = df.iloc[i]\n",
    "            row2 = df.iloc[i+1]\n",
    "            if row1['Match'] == row2['Match'] and row1['Year'] == row2['Year']:\n",
    "                # Adjust the order of columns here\n",
    "                paired_row = [row1['Match'], row1['Year'], row1['P1T1'], row1['P2T1'], row2['P1T1'], row2['P2T1']]\n",
    "                paired_rows.append(paired_row)\n",
    "    paired_df = pd.DataFrame(paired_rows, columns=['Match', 'Year', 'P1T1', 'P2T1', 'P1T2', 'P2T2'])\n",
    "    return paired_df\n",
    "\n",
    "# Pair the rows in the extracted dataframe\n",
    "df_paired = pair_rows(df_extracted)\n",
    "\n",
    "# Save the final dataframe to an Excel file in the specified directory\n",
    "save_path = f\"C:/Users/{user}/Documents/GitHub/davis-cup/data/paired_davis_cup.xlsx\"\n",
    "df_paired.to_excel(save_path, index=False)\n"
   ]
  }
 ],
 "metadata": {
  "kernelspec": {
   "display_name": "Python 3",
   "language": "python",
   "name": "python3"
  },
  "language_info": {
   "codemirror_mode": {
    "name": "ipython",
    "version": 3
   },
   "file_extension": ".py",
   "mimetype": "text/x-python",
   "name": "python",
   "nbconvert_exporter": "python",
   "pygments_lexer": "ipython3",
   "version": "3.7.3"
  }
 },
 "nbformat": 4,
 "nbformat_minor": 2
}
