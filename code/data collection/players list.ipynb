{
 "cells": [
  {
   "cell_type": "code",
   "execution_count": 98,
   "metadata": {},
   "outputs": [],
   "source": [
    "import pandas as pd\n",
    "from getpass import getuser\n"
   ]
  },
  {
   "cell_type": "code",
   "execution_count": 99,
   "metadata": {},
   "outputs": [],
   "source": [
    "# Get the current user's name\n",
    "user = getuser()\n",
    "# Load the dataset\n",
    "file_path = f\"C:/Users/{user}/Documents/GitHub/davis-cup/data/combined_davis.xlsx\"  \n",
    "df = pd.read_excel(file_path)"
   ]
  },
  {
   "cell_type": "code",
   "execution_count": 100,
   "metadata": {
    "scrolled": false
   },
   "outputs": [],
   "source": [
    "# Loop through the DataFrame and mark rows for deletion\n",
    "to_delete = []\n",
    "for i in range(len(df) - 1):\n",
    "    # Check for consecutive rows with \"Sam Groth\" as \"Player 1\" and \"John Peers\" as \"Player 2\"\n",
    "    if (df.iloc[i]['Player 1'] == \"Sam Groth\" and \n",
    "        df.iloc[i]['Player 2'] == \"John Peers\" and\n",
    "        df.iloc[i]['Player 1'] == df.iloc[i + 1]['Player 1'] and\n",
    "        df.iloc[i]['Player 2'] == df.iloc[i + 1]['Player 2']):\n",
    "        to_delete.append(i + 1)\n",
    "    \n",
    "    # Check for consecutive rows with \"Jordan Thompson\" as \"Player 1\"\n",
    "    elif (df.iloc[i]['Player 1'] == \"Jordan Thompson\" and \n",
    "          df.iloc[i]['Player 1'] == df.iloc[i + 1]['Player 1']):\n",
    "        to_delete.append(i + 1)\n",
    "\n",
    "    # Check for consecutive rows with \"Nick Kyrgios\" as \"Player 1\"\n",
    "    elif (df.iloc[i]['Player 1'] == \"Nick Kyrgios\" and \n",
    "          df.iloc[i]['Player 1'] == df.iloc[i + 1]['Player 1']):\n",
    "        to_delete.append(i + 1)\n",
    "        \n",
    "    # Check for consecutive rows with \"Sam Groth\" as \"Player 1\"\n",
    "    elif (df.iloc[i]['Player 1'] == \"Sam Groth\" and \n",
    "          df.iloc[i]['Player 1'] == df.iloc[i + 1]['Player 1']):\n",
    "        to_delete.append(i + 1)\n",
    "    # Check for consecutive rows with \"Sam Groth\" as \"Player 1\" and \"John Peers\" as \"Player 2\"\n",
    "    elif (df.iloc[i]['Player 1'] == \"John Peers\" and \n",
    "        df.iloc[i]['Player 2'] == \"Jordan Thompson\" and\n",
    "        df.iloc[i]['Player 1'] == df.iloc[i + 1]['Player 1'] and\n",
    "        df.iloc[i]['Player 2'] == df.iloc[i + 1]['Player 2']):\n",
    "        to_delete.append(i + 1)\n",
    "\n",
    "\n",
    "# Remove the marked rows\n",
    "df_cleaned = df.drop(df.index[to_delete])\n"
   ]
  },
  {
   "cell_type": "code",
   "execution_count": 101,
   "metadata": {},
   "outputs": [
    {
     "name": "stdout",
     "output_type": "stream",
     "text": [
      "df shape: (866, 28)\n",
      "df_cleaned shape: (846, 28)\n",
      "df_paired shape: (423, 10)\n"
     ]
    }
   ],
   "source": [
    "# Extract the relevant columns and rename them\n",
    "df_extracted = df_cleaned[['Stage', 'Player 1', 'Player 2', 'Year', 'Date', 'Venue', 'Court Pace Rating', 'Ball', 'match']].copy()\n",
    "df_extracted.rename(columns={'Player 1': 'P1T1', 'Player 2': 'P2T1'}, inplace=True)\n",
    "\n",
    "# Helper function to pair rows with the additional condition that \"Date\" should be equal\n",
    "def pair_rows(df):\n",
    "    paired_rows = []\n",
    "    for i in range(0, len(df), 2):\n",
    "        if i+1 < len(df):\n",
    "            row1 = df.iloc[i]\n",
    "            row2 = df.iloc[i+1]\n",
    "            if row1['match'] == row2['match'] and row1['Year'] == row2['Year'] and row1['Date'] == row2['Date']:\n",
    "                paired_row = [row1['match'], row1['Year'], row1['P1T1'], row1['P2T1'], row2['P1T1'], row2['P2T1'], row1['Date'], row1['Venue'], row1['Court Pace Rating'], row1['Ball']]\n",
    "                paired_rows.append(paired_row)\n",
    "    paired_df = pd.DataFrame(paired_rows, columns=['Match', 'Year', 'P1T1', 'P2T1', 'P1T2', 'P2T2', 'Date', 'Venue', 'Court Pace Rating', 'Ball'])\n",
    "    return paired_df\n",
    "\n",
    "# Pair the rows in the extracted dataframe\n",
    "df_paired = pair_rows(df_extracted)\n",
    "\n",
    "# Replace specific player names to match with data from atp matches\n",
    "df_paired.replace({\n",
    "    'P1T1': {\n",
    "        'Jan-Lennard Struff': 'Jan Lennard Struff',\n",
    "        'Juan Martin Del Potro': 'Juan Martin del Potro',\n",
    "        'Albert Ramos-Vinolas': 'Albert Ramos',\n",
    "        'Felix Auger-Aliassime': 'Felix Auger Aliassime',\n",
    "        'Pierre-Hugues Herbert': 'Pierre Hugues Herbert',\n",
    "        'Marc-Andrea Huesler': 'Marc Andrea Huesler',\n",
    "        'Roman Khassanov': 'Roman Hassanov'\n",
    "    },\n",
    "    'P2T1': {\n",
    "        'Jan-Lennard Struff': 'Jan Lennard Struff',\n",
    "        'Juan Martin Del Potro': 'Juan Martin del Potro',\n",
    "        'Albert Ramos-Vinolas': 'Albert Ramos',\n",
    "        'Felix Auger-Aliassime': 'Felix Auger Aliassime',\n",
    "        'Pierre-Hugues Herbert': 'Pierre Hugues Herbert',\n",
    "        'Marc-Andrea Huesler': 'Marc Andrea Huesler',\n",
    "        'Roman Khassanov': 'Roman Hassanov'\n",
    "\n",
    "    },\n",
    "    'P1T2': {\n",
    "        'Jan-Lennard Struff': 'Jan Lennard Struff',\n",
    "        'Juan Martin Del Potro': 'Juan Martin del Potro',\n",
    "        'Albert Ramos-Vinolas': 'Albert Ramos',\n",
    "        'Felix Auger-Aliassime': 'Felix Auger Aliassime',\n",
    "         'Pierre-Hugues Herbert': 'Pierre Hugues Herbert',\n",
    "        'Marc-Andrea Huesler': 'Marc Andrea Huesler',\n",
    "        'Roman Khassanov': 'Roman Hassanov'\n",
    "\n",
    "    },\n",
    "    'P2T2': {\n",
    "        'Jan-Lennard Struff': 'Jan Lennard Struff',\n",
    "        'Juan Martin Del Potro': 'Juan Martin del Potro',\n",
    "        'Albert Ramos-Vinolas': 'Albert Ramos',\n",
    "        'Felix Auger-Aliassime': 'Felix Auger Aliassime',\n",
    "         'Pierre-Hugues Herbert': 'Pierre Hugues Herbert',\n",
    "        'Marc-Andrea Huesler': 'Marc Andrea Huesler',\n",
    "        'Roman Khassanov': 'Roman Hassanov'\n",
    "\n",
    "    }\n",
    "}, inplace=True)\n",
    "\n",
    "\n",
    "# Print the shapes of the dataframes\n",
    "print(\"df shape:\", df.shape)\n",
    "print(\"df_cleaned shape:\", df_cleaned.shape)\n",
    "print(\"df_paired shape:\", df_paired.shape)\n"
   ]
  },
  {
   "cell_type": "code",
   "execution_count": 102,
   "metadata": {
    "scrolled": true
   },
   "outputs": [
    {
     "name": "stdout",
     "output_type": "stream",
     "text": [
      "All matches are in the correct range.\n"
     ]
    }
   ],
   "source": [
    "# Group by Date, Year, and Venue, then count observations\n",
    "grouped_counts = df_cleaned.groupby(['Date', 'Year', 'Venue']).size()\n",
    "\n",
    "# Define a function to check if counts meet the specified criteria\n",
    "def check_count(year, count):\n",
    "    if year <= 2018:\n",
    "        return count == 8 or count == 10\n",
    "    else:\n",
    "        return 4 <= count <= 16\n",
    "\n",
    "# Apply the function to each row in the grouped data and create a new column 'Count'\n",
    "correct_counts_df = grouped_counts.reset_index()\n",
    "correct_counts_df['Count'] = correct_counts_df.apply(lambda row: row[0], axis=1)\n",
    "\n",
    "# Filter rows where counts do not meet the criteria\n",
    "incorrect_counts_df = correct_counts_df[~correct_counts_df.apply(lambda row: check_count(row['Year'], row['Count']), axis=1)]\n",
    "\n",
    "# Check if the DataFrame is empty, indicating all matches are in the correct range\n",
    "if incorrect_counts_df.empty:\n",
    "    print(\"All matches are in the correct range.\")\n",
    "else:\n",
    "    # Display Date, Year, Venue, and Count when correct_counts is False\n",
    "    print(incorrect_counts_df[['Date', 'Year', 'Venue', 'Count']])\n"
   ]
  },
  {
   "cell_type": "markdown",
   "metadata": {},
   "source": [
    "# Single matches"
   ]
  },
  {
   "cell_type": "markdown",
   "metadata": {},
   "source": [
    "## check correspondance between data official website (davis matches) and https://github.com/JeffSackmann/tennis_atp/tree/master repo"
   ]
  },
  {
   "cell_type": "code",
   "execution_count": 103,
   "metadata": {},
   "outputs": [
    {
     "name": "stdout",
     "output_type": "stream",
     "text": [
      "davis_single_df (331, 10)\n"
     ]
    }
   ],
   "source": [
    "# keep only rows for single matches\n",
    "davis_single_df = df_paired[df_paired['P2T1'].isna() & df_paired['P2T2'].isna()]\n",
    "print(\"davis_single_df\", davis_single_df.shape)"
   ]
  },
  {
   "cell_type": "code",
   "execution_count": 104,
   "metadata": {},
   "outputs": [
    {
     "data": {
      "text/html": [
       "<div>\n",
       "<style scoped>\n",
       "    .dataframe tbody tr th:only-of-type {\n",
       "        vertical-align: middle;\n",
       "    }\n",
       "\n",
       "    .dataframe tbody tr th {\n",
       "        vertical-align: top;\n",
       "    }\n",
       "\n",
       "    .dataframe thead th {\n",
       "        text-align: right;\n",
       "    }\n",
       "</style>\n",
       "<table border=\"1\" class=\"dataframe\">\n",
       "  <thead>\n",
       "    <tr style=\"text-align: right;\">\n",
       "      <th></th>\n",
       "      <th>Match</th>\n",
       "      <th>Year</th>\n",
       "      <th>P1T1</th>\n",
       "      <th>P2T1</th>\n",
       "      <th>P1T2</th>\n",
       "      <th>P2T2</th>\n",
       "      <th>Date</th>\n",
       "      <th>Venue</th>\n",
       "      <th>Court Pace Rating</th>\n",
       "      <th>Ball</th>\n",
       "    </tr>\n",
       "  </thead>\n",
       "  <tbody>\n",
       "    <tr>\n",
       "      <th>195</th>\n",
       "      <td>MATCH 1</td>\n",
       "      <td>2016</td>\n",
       "      <td>Andy Murray</td>\n",
       "      <td>NaN</td>\n",
       "      <td>Juan Martin del Potro</td>\n",
       "      <td>NaN</td>\n",
       "      <td>16 Sep - 18 Sep 2016</td>\n",
       "      <td>Emirates Arena, Glasgow, Great Britain</td>\n",
       "      <td>Medium Fast</td>\n",
       "      <td>Slazenger Wimbledon</td>\n",
       "    </tr>\n",
       "    <tr>\n",
       "      <th>206</th>\n",
       "      <td>MATCH 2</td>\n",
       "      <td>2016</td>\n",
       "      <td>Ivo Karlovic</td>\n",
       "      <td>NaN</td>\n",
       "      <td>Juan Martin del Potro</td>\n",
       "      <td>NaN</td>\n",
       "      <td>25 Nov - 27 Nov 2016</td>\n",
       "      <td>Arena Zagreb, Zagreb, Croatia</td>\n",
       "      <td>Medium Slow</td>\n",
       "      <td>Wilson US Open Extra Duty</td>\n",
       "    </tr>\n",
       "    <tr>\n",
       "      <th>208</th>\n",
       "      <td>MATCH 4</td>\n",
       "      <td>2016</td>\n",
       "      <td>Marin Cilic</td>\n",
       "      <td>NaN</td>\n",
       "      <td>Juan Martin del Potro</td>\n",
       "      <td>NaN</td>\n",
       "      <td>25 Nov - 27 Nov 2016</td>\n",
       "      <td>Arena Zagreb, Zagreb, Croatia</td>\n",
       "      <td>Medium Slow</td>\n",
       "      <td>Wilson US Open Extra Duty</td>\n",
       "    </tr>\n",
       "  </tbody>\n",
       "</table>\n",
       "</div>"
      ],
      "text/plain": [
       "       Match  Year          P1T1 P2T1                   P1T2 P2T2  \\\n",
       "195  MATCH 1  2016   Andy Murray  NaN  Juan Martin del Potro  NaN   \n",
       "206  MATCH 2  2016  Ivo Karlovic  NaN  Juan Martin del Potro  NaN   \n",
       "208  MATCH 4  2016   Marin Cilic  NaN  Juan Martin del Potro  NaN   \n",
       "\n",
       "                      Date                                    Venue  \\\n",
       "195   16 Sep - 18 Sep 2016   Emirates Arena, Glasgow, Great Britain   \n",
       "206   25 Nov - 27 Nov 2016            Arena Zagreb, Zagreb, Croatia   \n",
       "208   25 Nov - 27 Nov 2016            Arena Zagreb, Zagreb, Croatia   \n",
       "\n",
       "    Court Pace Rating                        Ball  \n",
       "195       Medium Fast         Slazenger Wimbledon  \n",
       "206       Medium Slow   Wilson US Open Extra Duty  \n",
       "208       Medium Slow   Wilson US Open Extra Duty  "
      ]
     },
     "execution_count": 104,
     "metadata": {},
     "output_type": "execute_result"
    }
   ],
   "source": [
    "davis_single_df.loc[davis_single_df['P1T2'] == 'Juan Martin del Potro',]"
   ]
  },
  {
   "cell_type": "code",
   "execution_count": 105,
   "metadata": {},
   "outputs": [],
   "source": [
    "folder_path = f\"C:/Users/{user}/Documents/GitHub/davis-cup/data/single matches/\"\n",
    "\n",
    "# Initialize DataFrame to store all ATP matches where Davis Cup players took part\n",
    "combined_matches_df = pd.DataFrame()\n",
    "\n",
    "for year in range(2014, 2024):\n",
    "    # Filter Davis Cup data for the current year\n",
    "    davis_single_year_df = df_paired[df_paired['Year'] == year]\n",
    "\n",
    "    # Create a set of tuples representing pairs of players for the current year\n",
    "    davis_pairs = set(zip(davis_single_year_df['P1T1'], davis_single_year_df['P1T2']))\n",
    "\n",
    "    # Load ATP matches data for the current year\n",
    "    atp_matches_path = f\"{folder_path}atp_matches_{year}.csv\"\n",
    "    atp_matches_df = pd.read_csv(atp_matches_path)\n",
    "\n",
    "    # Filter ATP matches data to match Davis Cup pairs\n",
    "    matched_atp_matches_df = atp_matches_df[\n",
    "        atp_matches_df.apply(lambda row: (row['winner_name'], row['loser_name']) in davis_pairs or\n",
    "                                           (row['loser_name'], row['winner_name']) in davis_pairs, axis=1)\n",
    "    ]\n",
    "\n",
    "    # Append the filtered data to the combined DataFrame\n",
    "    combined_matches_df = combined_matches_df.append(matched_atp_matches_df)\n",
    "\n",
    "# # Extract the year information before the first hyphen in 'tourney_id'\n",
    "combined_matches_df['year'] = combined_matches_df['tourney_id'].str.split('-').str[0]\n",
    "\n",
    "# Convert 'year' column to integer\n",
    "combined_matches_df['year'] = combined_matches_df['year'].astype(int)\n",
    "\n",
    "# Save the combined data to a single Excel file\n",
    "final_output_path = f\"C:/Users/{user}/Documents/GitHub/davis-cup/data/single matches/filtered_atp_matches.xlsx\"\n",
    "combined_matches_df.to_excel(final_output_path, index=False)\n"
   ]
  },
  {
   "cell_type": "code",
   "execution_count": 106,
   "metadata": {},
   "outputs": [
    {
     "name": "stdout",
     "output_type": "stream",
     "text": [
      "Number of observations with tourney_level 'D': 331\n",
      "Number of observations without tourney_level 'D': 117\n"
     ]
    }
   ],
   "source": [
    "# Count the number of observations where tourney_level is \"D\" - Davis Cup\n",
    "count_tourney_level_D = combined_matches_df[combined_matches_df['tourney_level'] == 'D'].shape[0]\n",
    "\n",
    "# Count the number of observations where tourney_level is not \"D\"\n",
    "count_not_tourney_level_D = combined_matches_df[combined_matches_df['tourney_level'] != 'D'].shape[0]\n",
    "\n",
    "print(\"Number of observations with tourney_level 'D':\", count_tourney_level_D)\n",
    "print(\"Number of observations without tourney_level 'D':\", count_not_tourney_level_D)\n"
   ]
  },
  {
   "cell_type": "markdown",
   "metadata": {},
   "source": [
    "331 corresponds in both datasets combined_matches_df and davis_single_df"
   ]
  },
  {
   "cell_type": "markdown",
   "metadata": {},
   "source": [
    "117 is the number of games played in other atp matches by davis cup players"
   ]
  },
  {
   "cell_type": "code",
   "execution_count": 107,
   "metadata": {},
   "outputs": [],
   "source": [
    "# Creating a new DataFrame with observations where tourney_level is \"D\"\n",
    "davis_cup_matches_df = combined_matches_df[combined_matches_df['tourney_level'] == 'D']\n"
   ]
  },
  {
   "cell_type": "code",
   "execution_count": 108,
   "metadata": {
    "scrolled": true
   },
   "outputs": [
    {
     "name": "stdout",
     "output_type": "stream",
     "text": [
      "[[2014, 1, 'Andreas Seppi', 'Carlos Berlocq'], [2014, 2, 'Fabio Fognini', 'Juan Monaco'], [2014, 4, 'Carlos Berlocq', 'Fabio Fognini'], [2014, 1, 'Radek Stepanek', 'Robin Haase'], [2014, 2, 'Igor Sijsling', 'Tomas Berdych']]\n"
     ]
    }
   ],
   "source": [
    "\n",
    "# Creating a list with year, match_num, winner_name, loser_name, where names are alphabetically ordered\n",
    "matches_list = davis_cup_matches_df.apply(\n",
    "    lambda row: [row['year'],row['match_num'], *sorted([row['winner_name'], row['loser_name']])], \n",
    "    axis=1\n",
    ").tolist()\n",
    "\n",
    "# Optionally, print the first few elements in the list to verify\n",
    "print(matches_list[:5])\n"
   ]
  },
  {
   "cell_type": "code",
   "execution_count": 109,
   "metadata": {},
   "outputs": [
    {
     "name": "stdout",
     "output_type": "stream",
     "text": [
      "[[2014, 1, 'Radek Stepanek', 'Robin Haase'], [2014, 2, 'Igor Sijsling', 'Tomas Berdych'], [2014, 4, 'Thiemo De Bakker', 'Tomas Berdych'], [2014, 5, 'Igor Sijsling', 'Lukas Rosol'], [2014, 1, 'Kei Nishikori', 'Peter Polansky']]\n"
     ]
    },
    {
     "name": "stderr",
     "output_type": "stream",
     "text": [
      "C:\\ProgramData\\Anaconda3\\lib\\site-packages\\ipykernel_launcher.py:4: SettingWithCopyWarning: \n",
      "A value is trying to be set on a copy of a slice from a DataFrame.\n",
      "Try using .loc[row_indexer,col_indexer] = value instead\n",
      "\n",
      "See the caveats in the documentation: https://pandas.pydata.org/pandas-docs/stable/user_guide/indexing.html#returning-a-view-versus-a-copy\n",
      "  after removing the cwd from sys.path.\n"
     ]
    }
   ],
   "source": [
    "# Convert 'Match' column to string type first, then clean it to keep only the number after \"MATCH\"\n",
    "davis_single_df['Match'] = davis_single_df['Match'].astype(str).str.replace('MATCH ', '').astype(int)\n",
    "\n",
    "# Creating a list with Year, cleaned Match, P1T1, P1T2, where player names are alphabetically ordered\n",
    "davis_single_list = davis_single_df.apply(\n",
    "    lambda row: [row['Year'], row['Match'], *sorted([row['P1T1'], row['P1T2']])],\n",
    "    axis=1\n",
    ").tolist()\n",
    "\n",
    "# Optionally, print the first few elements in the list to verify\n",
    "print(davis_single_list[:5])\n",
    "\n",
    "\n"
   ]
  },
  {
   "cell_type": "code",
   "execution_count": 110,
   "metadata": {
    "scrolled": true
   },
   "outputs": [
    {
     "name": "stdout",
     "output_type": "stream",
     "text": [
      "Non-matching elements in standardized_matches_list: {(2014, 5, 'Daniel Brands', 'Roberto Bautista Agut')}\n",
      "Non-matching elements in standardized_davis_single_list: {(2014, 4, 'Daniel Brands', 'Roberto Bautista Agut')}\n",
      "Number of unmatched elements in standardized_matches_list: 1\n",
      "Number of unmatched elements in standardized_davis_single_list: 1\n"
     ]
    }
   ],
   "source": [
    "# Standardizing formats in matches_list and davis_single_list\n",
    "# Assuming year and match number are integers, and player names are strings\n",
    "\n",
    "standardized_matches_list = [\n",
    "    [int(year), int(match_num), str(winner_name), str(loser_name)]\n",
    "    for year, match_num, winner_name, loser_name in matches_list\n",
    "]\n",
    "\n",
    "standardized_davis_single_list = [\n",
    "    [int(year),int(match_num), str(player1), str(player2)]\n",
    "    for year, match_num, player1, player2 in davis_single_list\n",
    "]\n",
    "\n",
    "# Convert to sets of tuples for comparison\n",
    "standardized_matches_set = set(tuple(item) for item in standardized_matches_list)\n",
    "standardized_davis_single_set = set(tuple(item) for item in standardized_davis_single_list)\n",
    "\n",
    "# Find non-matching elements in both sets\n",
    "non_matching_in_standardized_matches = standardized_matches_set - standardized_davis_single_set\n",
    "non_matching_in_standardized_davis_single = standardized_davis_single_set - standardized_matches_set\n",
    "\n",
    "print(\"Non-matching elements in standardized_matches_list:\", non_matching_in_standardized_matches)\n",
    "print(\"Non-matching elements in standardized_davis_single_list:\", non_matching_in_standardized_davis_single)\n",
    "\n",
    "# Count the number of non-matching tuples in standardized_matches_list\n",
    "num_unmatched_in_standardized_matches = len(non_matching_in_standardized_matches)\n",
    "\n",
    "# Count the number of non-matching tuples in standardized_davis_single_list\n",
    "num_unmatched_in_standardized_davis_single = len(non_matching_in_standardized_davis_single)\n",
    "\n",
    "print(\"Number of unmatched elements in standardized_matches_list:\", num_unmatched_in_standardized_matches)\n",
    "print(\"Number of unmatched elements in standardized_davis_single_list:\", num_unmatched_in_standardized_davis_single)\n"
   ]
  },
  {
   "cell_type": "markdown",
   "metadata": {},
   "source": [
    "# Double matches"
   ]
  },
  {
   "cell_type": "code",
   "execution_count": 111,
   "metadata": {},
   "outputs": [],
   "source": [
    "# Filter the DataFrame to keep rows where P1T1, P2T1, P1T2, P2T2 are all non-NA\n",
    "davis_double_df = df_paired.dropna(subset=['P1T1', 'P2T1', 'P1T2', 'P2T2'])"
   ]
  },
  {
   "cell_type": "code",
   "execution_count": 112,
   "metadata": {},
   "outputs": [
    {
     "name": "stdout",
     "output_type": "stream",
     "text": [
      "davis_double_df (92, 10)\n"
     ]
    }
   ],
   "source": [
    "print(\"davis_double_df\", davis_double_df.shape)"
   ]
  },
  {
   "cell_type": "code",
   "execution_count": 125,
   "metadata": {},
   "outputs": [
    {
     "data": {
      "text/html": [
       "<div>\n",
       "<style scoped>\n",
       "    .dataframe tbody tr th:only-of-type {\n",
       "        vertical-align: middle;\n",
       "    }\n",
       "\n",
       "    .dataframe tbody tr th {\n",
       "        vertical-align: top;\n",
       "    }\n",
       "\n",
       "    .dataframe thead th {\n",
       "        text-align: right;\n",
       "    }\n",
       "</style>\n",
       "<table border=\"1\" class=\"dataframe\">\n",
       "  <thead>\n",
       "    <tr style=\"text-align: right;\">\n",
       "      <th></th>\n",
       "      <th>Match</th>\n",
       "      <th>Year</th>\n",
       "      <th>P1T1</th>\n",
       "      <th>P2T1</th>\n",
       "      <th>P1T2</th>\n",
       "      <th>P2T2</th>\n",
       "      <th>Date</th>\n",
       "      <th>Venue</th>\n",
       "      <th>Court Pace Rating</th>\n",
       "      <th>Ball</th>\n",
       "    </tr>\n",
       "  </thead>\n",
       "  <tbody>\n",
       "    <tr>\n",
       "      <th>2</th>\n",
       "      <td>MATCH 3</td>\n",
       "      <td>2014</td>\n",
       "      <td>Tomas Berdych</td>\n",
       "      <td>Radek Stepanek</td>\n",
       "      <td>Robin Haase</td>\n",
       "      <td>Jean-Julien Rojer</td>\n",
       "      <td>31 Jan - 02 Feb 2014</td>\n",
       "      <td>Cez Arena, Ostrava, Czech Republic</td>\n",
       "      <td>Medium</td>\n",
       "      <td>Head ATP</td>\n",
       "    </tr>\n",
       "    <tr>\n",
       "      <th>7</th>\n",
       "      <td>MATCH 3</td>\n",
       "      <td>2014</td>\n",
       "      <td>Kei Nishikori</td>\n",
       "      <td>Yasutaka Uchiyama</td>\n",
       "      <td>Frank Dancevic</td>\n",
       "      <td>Daniel Nestor</td>\n",
       "      <td>31 Jan - 02 Feb 2014</td>\n",
       "      <td>Ariake Coliseum, Tokyo, Japan</td>\n",
       "      <td>Medium</td>\n",
       "      <td>Srixon</td>\n",
       "    </tr>\n",
       "    <tr>\n",
       "      <th>12</th>\n",
       "      <td>MATCH 3</td>\n",
       "      <td>2014</td>\n",
       "      <td>Tommy Haas</td>\n",
       "      <td>Philipp Kohlschreiber</td>\n",
       "      <td>David Marrero Santana</td>\n",
       "      <td>Fernando Verdasco</td>\n",
       "      <td>31 Jan - 02 Feb 2014</td>\n",
       "      <td>Fraport Arena, Frankfurt, Germany</td>\n",
       "      <td>Medium Fast</td>\n",
       "      <td>Dunlop Fort Tournament</td>\n",
       "    </tr>\n",
       "    <tr>\n",
       "      <th>16</th>\n",
       "      <td>MATCH 3</td>\n",
       "      <td>2014</td>\n",
       "      <td>Richard Gasquet</td>\n",
       "      <td>Jo-Wilfried Tsonga</td>\n",
       "      <td>Chris Guccione</td>\n",
       "      <td>Lleyton Hewitt</td>\n",
       "      <td>31 Jan - 02 Feb 2014</td>\n",
       "      <td>Vendéspace, La Roche sur Yon, France</td>\n",
       "      <td>NaN</td>\n",
       "      <td>Babolat French Open Roland-Garros</td>\n",
       "    </tr>\n",
       "    <tr>\n",
       "      <th>21</th>\n",
       "      <td>MATCH 3</td>\n",
       "      <td>2014</td>\n",
       "      <td>Bob Bryan</td>\n",
       "      <td>Mike Bryan</td>\n",
       "      <td>Colin Fleming</td>\n",
       "      <td>Dominic Inglot</td>\n",
       "      <td>31 Jan - 02 Feb 2014</td>\n",
       "      <td>Petco Park, San Diego, CA, USA</td>\n",
       "      <td>Medium Fast</td>\n",
       "      <td>Dunlop Fort Clay Court</td>\n",
       "    </tr>\n",
       "    <tr>\n",
       "      <th>...</th>\n",
       "      <td>...</td>\n",
       "      <td>...</td>\n",
       "      <td>...</td>\n",
       "      <td>...</td>\n",
       "      <td>...</td>\n",
       "      <td>...</td>\n",
       "      <td>...</td>\n",
       "      <td>...</td>\n",
       "      <td>...</td>\n",
       "      <td>...</td>\n",
       "    </tr>\n",
       "    <tr>\n",
       "      <th>402</th>\n",
       "      <td>MATCH 3</td>\n",
       "      <td>2022</td>\n",
       "      <td>Max Purcell</td>\n",
       "      <td>Jordan Thompson</td>\n",
       "      <td>Nikola Mektic</td>\n",
       "      <td>Mate Pavic</td>\n",
       "      <td>25 Nov - 25 Nov 2022</td>\n",
       "      <td>Malaga</td>\n",
       "      <td>NaN</td>\n",
       "      <td>NaN</td>\n",
       "    </tr>\n",
       "    <tr>\n",
       "      <th>407</th>\n",
       "      <td>MATCH 3</td>\n",
       "      <td>2023</td>\n",
       "      <td>Alexis Galarneau</td>\n",
       "      <td>Vasek Pospisil</td>\n",
       "      <td>Harri Heliovaara</td>\n",
       "      <td>Otto Virtanen</td>\n",
       "      <td>21 Nov - 21 Nov 2023</td>\n",
       "      <td>Malaga</td>\n",
       "      <td>NaN</td>\n",
       "      <td>NaN</td>\n",
       "    </tr>\n",
       "    <tr>\n",
       "      <th>410</th>\n",
       "      <td>MATCH 3</td>\n",
       "      <td>2023</td>\n",
       "      <td>Jiri Lehecka</td>\n",
       "      <td>Adam Pavlasek</td>\n",
       "      <td>Matthew Ebden</td>\n",
       "      <td>Max Purcell</td>\n",
       "      <td>22 Nov - 22 Nov 2023</td>\n",
       "      <td>Malaga</td>\n",
       "      <td>NaN</td>\n",
       "      <td>NaN</td>\n",
       "    </tr>\n",
       "    <tr>\n",
       "      <th>413</th>\n",
       "      <td>MATCH 3</td>\n",
       "      <td>2023</td>\n",
       "      <td>Jannik Sinner</td>\n",
       "      <td>Lorenzo Sonego</td>\n",
       "      <td>Tallon Griekspoor</td>\n",
       "      <td>Wesley Koolhof</td>\n",
       "      <td>23 Nov - 23 Nov 2023</td>\n",
       "      <td>Malaga</td>\n",
       "      <td>NaN</td>\n",
       "      <td>NaN</td>\n",
       "    </tr>\n",
       "    <tr>\n",
       "      <th>420</th>\n",
       "      <td>MATCH 3</td>\n",
       "      <td>2023</td>\n",
       "      <td>Jannik Sinner</td>\n",
       "      <td>Lorenzo Sonego</td>\n",
       "      <td>Novak Djokovic</td>\n",
       "      <td>Miomir Kecmanovic</td>\n",
       "      <td>25 Nov - 25 Nov 2023</td>\n",
       "      <td>Malaga</td>\n",
       "      <td>NaN</td>\n",
       "      <td>NaN</td>\n",
       "    </tr>\n",
       "  </tbody>\n",
       "</table>\n",
       "<p>92 rows × 10 columns</p>\n",
       "</div>"
      ],
      "text/plain": [
       "       Match  Year              P1T1                   P2T1  \\\n",
       "2    MATCH 3  2014     Tomas Berdych         Radek Stepanek   \n",
       "7    MATCH 3  2014     Kei Nishikori      Yasutaka Uchiyama   \n",
       "12   MATCH 3  2014        Tommy Haas  Philipp Kohlschreiber   \n",
       "16   MATCH 3  2014   Richard Gasquet     Jo-Wilfried Tsonga   \n",
       "21   MATCH 3  2014         Bob Bryan             Mike Bryan   \n",
       "..       ...   ...               ...                    ...   \n",
       "402  MATCH 3  2022       Max Purcell        Jordan Thompson   \n",
       "407  MATCH 3  2023  Alexis Galarneau         Vasek Pospisil   \n",
       "410  MATCH 3  2023      Jiri Lehecka          Adam Pavlasek   \n",
       "413  MATCH 3  2023     Jannik Sinner         Lorenzo Sonego   \n",
       "420  MATCH 3  2023     Jannik Sinner         Lorenzo Sonego   \n",
       "\n",
       "                      P1T2               P2T2                   Date  \\\n",
       "2              Robin Haase  Jean-Julien Rojer   31 Jan - 02 Feb 2014   \n",
       "7           Frank Dancevic      Daniel Nestor   31 Jan - 02 Feb 2014   \n",
       "12   David Marrero Santana  Fernando Verdasco   31 Jan - 02 Feb 2014   \n",
       "16          Chris Guccione     Lleyton Hewitt   31 Jan - 02 Feb 2014   \n",
       "21           Colin Fleming     Dominic Inglot   31 Jan - 02 Feb 2014   \n",
       "..                     ...                ...                    ...   \n",
       "402          Nikola Mektic         Mate Pavic   25 Nov - 25 Nov 2022   \n",
       "407       Harri Heliovaara      Otto Virtanen   21 Nov - 21 Nov 2023   \n",
       "410          Matthew Ebden        Max Purcell   22 Nov - 22 Nov 2023   \n",
       "413      Tallon Griekspoor     Wesley Koolhof   23 Nov - 23 Nov 2023   \n",
       "420         Novak Djokovic  Miomir Kecmanovic   25 Nov - 25 Nov 2023   \n",
       "\n",
       "                                     Venue Court Pace Rating  \\\n",
       "2       Cez Arena, Ostrava, Czech Republic            Medium   \n",
       "7            Ariake Coliseum, Tokyo, Japan            Medium   \n",
       "12       Fraport Arena, Frankfurt, Germany       Medium Fast   \n",
       "16    Vendéspace, La Roche sur Yon, France               NaN   \n",
       "21          Petco Park, San Diego, CA, USA       Medium Fast   \n",
       "..                                     ...               ...   \n",
       "402                                 Malaga               NaN   \n",
       "407                                 Malaga               NaN   \n",
       "410                                 Malaga               NaN   \n",
       "413                                 Malaga               NaN   \n",
       "420                                 Malaga               NaN   \n",
       "\n",
       "                                   Ball  \n",
       "2                              Head ATP  \n",
       "7                                Srixon  \n",
       "12               Dunlop Fort Tournament  \n",
       "16    Babolat French Open Roland-Garros  \n",
       "21               Dunlop Fort Clay Court  \n",
       "..                                  ...  \n",
       "402                                 NaN  \n",
       "407                                 NaN  \n",
       "410                                 NaN  \n",
       "413                                 NaN  \n",
       "420                                 NaN  \n",
       "\n",
       "[92 rows x 10 columns]"
      ]
     },
     "execution_count": 125,
     "metadata": {},
     "output_type": "execute_result"
    }
   ],
   "source": [
    "davis_double_df"
   ]
  },
  {
   "cell_type": "code",
   "execution_count": 149,
   "metadata": {
    "scrolled": false
   },
   "outputs": [
    {
     "name": "stdout",
     "output_type": "stream",
     "text": [
      "{(('Kei Nishikori', 'Yasutaka Uchiyama'), ('Daniel Nestor', 'Frank Dancevic')), (('Fabio Fognini', 'Simone Bolelli'), ('Andy Murray', 'Colin Fleming')), (('Philipp Kohlschreiber', 'Tommy Haas'), ('David Marrero Santana', 'Fernando Verdasco')), (('Jo-Wilfried Tsonga', 'Richard Gasquet'), ('Chris Guccione', 'Lleyton Hewitt')), (('Julien Benneteau', 'Richard Gasquet'), ('Roger Federer', 'Stan Wawrinka')), (('Roger Federer', 'Stan Wawrinka'), ('Aleksandr Nedovyesov', 'Andrey Golubev')), (('Evgeny Korolev', 'Mikhail Kukushkin'), ('Olivier Rochus', 'Ruben Bemelmans')), (('Marco Chiudinelli', 'Stan Wawrinka'), ('Fabio Fognini', 'Simone Bolelli')), (('Bob Bryan', 'Mike Bryan'), ('Colin Fleming', 'Dominic Inglot')), (('Radek Stepanek', 'Tomas Berdych'), ('Jean-Julien Rojer', 'Robin Haase')), (('Julien Benneteau', 'Michael Llodra'), ('Andre Begemann', 'Tobias Kamke')), (('Eduardo Schwank', 'Horacio Zeballos'), ('Fabio Fognini', 'Simone Bolelli')), (('Filip Krajinovic', 'Nenad Zimonjic'), ('Marco Chiudinelli', 'Michael Lammer')), (('Tatsuma Ito', 'Yasutaka Uchiyama'), ('Lukas Rosol', 'Radek Stepanek'))}\n",
      "{(('Ruben Bemelmans', 'Steve Darcis'), ('Carlos Berlocq', 'Leonardo Mayer')), (('David Goffin', 'Steve Darcis'), ('Andy Murray', 'Jamie Murray')), (('Andy Murray', 'Jamie Murray'), ('Jo-Wilfried Tsonga', 'Nicolas Mahut')), (('Nenad Zimonjic', 'Novak Djokovic'), ('Franko Skugor', 'Marin Draganja')), (('Adam Pavlasek', 'Jiri Vesely'), ('Lleyton Hewitt', 'Sam Groth')), (('Dominic Inglot', 'Jamie Murray'), ('Bob Bryan', 'Mike Bryan')), (('Niels Desein', 'Ruben Bemelmans'), ('Adrien Bossel', 'Michael Lammer')), (('Carlos Berlocq', 'Diego Schwartzman'), ('Bruno Soares', 'Marcelo Melo')), (('Andy Murray', 'Jamie Murray'), ('Lleyton Hewitt', 'Sam Groth')), (('Andre Begemann', 'Benjamin Becker'), ('Julien Benneteau', 'Nicolas Mahut')), (('Lleyton Hewitt', 'Sam Groth'), ('Aleksandr Nedovyesov', 'Andrey Golubev')), (('Kimmer Coppejans', 'Ruben Bemelmans'), ('Adil Shamasdin', 'Daniel Nestor')), (('Aleksandr Nedovyesov', 'Andrey Golubev'), ('Fabio Fognini', 'Simone Bolelli')), (('Carlos Berlocq', 'Leonardo Mayer'), ('Nenad Zimonjic', 'Viktor Troicki')), (('Daniel Nestor', 'Vasek Pospisil'), ('Go Soeda', 'Yasutaka Uchiyama'))}\n",
      "{(('John Peers', 'Lleyton Hewitt'), ('Bob Bryan', 'Mike Bryan')), (('Ivan Dodig', 'Marin Cilic'), ('Nicolas Mahut', 'Pierre Hugues Herbert')), (('Jo-Wilfried Tsonga', 'Richard Gasquet'), ('Philip Bester', 'Vasek Pospisil')), (('Andreas Seppi', 'Simone Bolelli'), ('Henri Laaksonen', 'Marco Chiudinelli')), (('Andy Murray', 'Jamie Murray'), ('Juan Martin del Potro', 'Leonardo Mayer')), (('David Goffin', 'Ruben Bemelmans'), ('Franko Skugor', 'Ivan Dodig')), (('Filip Krajinovic', 'Nenad Zimonjic'), ('Dominic Inglot', 'Jamie Murray')), (('Lukas Rosol', 'Radek Stepanek'), ('Nicolas Mahut', 'Pierre Hugues Herbert')), (('Bob Bryan', 'Mike Bryan'), ('Ivan Dodig', 'Marin Cilic')), (('Ivan Dodig', 'Marin Cilic'), ('Juan Martin del Potro', 'Leonardo Mayer')), (('Nenad Zimonjic', 'Novak Djokovic'), ('Aleksandr Nedovyesov', 'Andrey Golubev')), (('Andy Murray', 'Jamie Murray'), ('Yasutaka Uchiyama', 'Yoshihito Nishioka')), (('Fabio Fognini', 'Paolo Lorenzi'), ('Guido Pella', 'Juan Martin del Potro')), (('Lukasz Kubot', 'Marcin Matkowski'), ('Carlos Berlocq', 'Renzo Olivo')), (('Philipp Kohlschreiber', 'Philipp Petzschner'), ('Radek Stepanek', 'Tomas Berdych'))}\n",
      "{(('Alexander Zverev', 'Mischa Zverev'), ('Joris De Loore', 'Ruben Bemelmans')), (('Jack Sock', 'Steve Johnson'), ('Adrien Bossel', 'Henri Laaksonen')), (('Daniel Nestor', 'Vasek Pospisil'), ('Dominic Inglot', 'Jamie Murray')), (('Nicolas Mahut', 'Pierre Hugues Herbert'), ('Filip Krajinovic', 'Nenad Zimonjic')), (('Pierre Hugues Herbert', 'Richard Gasquet'), ('Joris De Loore', 'Ruben Bemelmans')), (('John Peers', 'Sam Groth'), ('Jack Sock', 'Steve Johnson')), (('Arthur De Greef', 'Ruben Bemelmans'), ('John Peers', 'Jordan Thompson')), (('Yasutaka Uchiyama', 'Yuichi Sugita'), ('Nicolas Mahut', 'Pierre Hugues Herbert')), (('Joris De Loore', 'Ruben Bemelmans'), ('Andreas Seppi', 'Simone Bolelli')), (('John Peers', 'Sam Groth'), ('Jan Satral', 'Jiri Vesely')), (('Nenad Zimonjic', 'Viktor Troicki'), ('Marc Lopez', 'Pablo Carreno Busta')), (('Carlos Berlocq', 'Leonardo Mayer'), ('Fabio Fognini', 'Simone Bolelli')), (('Julien Benneteau', 'Nicolas Mahut'), ('Dominic Inglot', 'Jamie Murray')), (('Marin Draganja', 'Nikola Mektic'), ('Feliciano Lopez', 'Marc Lopez')), (('Nenad Zimonjic', 'Viktor Troicki'), ('Andrey Kuznetsov', 'Konstantin Kravchuk'))}\n",
      "{(('Nicolas Mahut', 'Pierre Hugues Herbert'), ('Jean-Julien Rojer', 'Robin Haase')), (('Jack Sock', 'Ryan Harrison'), ('Joran Vliegen', 'Sander Gille')), (('Nicolas Mahut', 'Pierre Hugues Herbert'), ('Ivan Dodig', 'Mate Pavic')), (('John Peers', 'Matthew Ebden'), ('Jan Lennard Struff', 'Tim Puetz')), (('Ivan Dodig', 'Nikola Mektic'), ('Aleksandr Nedovyesov', 'Timur Khabibulin')), (('Ivan Dodig', 'Marin Cilic'), ('Daniel Nestor', 'Vasek Pospisil')), (('Ivan Dodig', 'Mate Pavic'), ('Mike Bryan', 'Ryan Harrison')), (('Feliciano Lopez', 'Marc Lopez'), ('Jan Lennard Struff', 'Tim Puetz')), (('Ben Mclachlan', 'Yasutaka Uchiyama'), ('Fabio Fognini', 'Simone Bolelli')), (('Feliciano Lopez', 'Pablo Carreno Busta'), ('Dominic Inglot', 'Jamie Murray')), (('Aleksandr Nedovyesov', 'Timur Khabibulin'), ('Luca Margaroli', 'Marc Andrea Huesler')), (('Miljan Zekic', 'Nikola Milojevic'), ('Ryan Harrison', 'Steve Johnson')), (('Julien Benneteau', 'Nicolas Mahut'), ('Feliciano Lopez', 'Marcel Granollers')), (('Fabio Fognini', 'Simone Bolelli'), ('Nicolas Mahut', 'Pierre Hugues Herbert')), (('Joris De Loore', 'Ruben Bemelmans'), ('Attila Balazs', 'Marton Fucsovics'))}\n",
      "{(('John Peers', 'Jordan Thompson'), ('Denis Shapovalov', 'Vasek Pospisil')), (('Novak Djokovic', 'Viktor Troicki'), ('Andrey Rublev', 'Karen Khachanov')), (('Leonardo Mayer', 'Maximo Gonzalez'), ('Marcel Granollers', 'Rafael Nadal')), (('Andrey Rublev', 'Karen Khachanov'), ('Denis Shapovalov', 'Vasek Pospisil')), (('Jamie Murray', 'Neal Skupski'), ('Feliciano Lopez', 'Rafael Nadal'))}\n",
      "{'P2T1', 'Match', 'P2T2', 'P1T2', 'Court Pace Rating', 'P1T1', 'Date', 'Venue', 'Year', 'Ball'}\n",
      "No matches found or 'tourney_id' column missing in all years.\n"
     ]
    }
   ],
   "source": [
    "\n",
    "# Sample setup - ensure to replace this with actual data loading logic\n",
    "# df_paired = pd.read_csv('path_to_davis_cup_data.csv')\n",
    "\n",
    "folder_path = f\"C:/Users/{user}/Documents/GitHub/davis-cup/data/double matches/\"\n",
    "\n",
    "double_matches_df = pd.DataFrame()\n",
    "\n",
    "for year in range(2014, 2021):\n",
    "    davis_double_year_df = davis_double_df[davis_double_df['Year'] == year].copy()\n",
    "\n",
    "    # Generate sorted tuples for each Davis Cup match\n",
    "    davis_quads = set(\n",
    "        davis_double_year_df.apply(\n",
    "            lambda x: (\n",
    "                tuple(sorted([str(x['P1T1']), str(x['P2T1'])])),\n",
    "                tuple(sorted([str(x['P1T2']), str(x['P2T2'])]))\n",
    "            ), axis=1\n",
    "        )\n",
    "    )\n",
    "\n",
    "    atp_matches_path = f\"{folder_path}atp_matches_doubles_{year}.csv\"\n",
    "    atp_matches_df = pd.read_csv(atp_matches_path)\n",
    "\n",
    "    # Filter out any rows that might have NaN values for player names to avoid type errors\n",
    "    atp_matches_df.dropna(subset=['winner1_name', 'winner2_name', 'loser1_name', 'loser2_name'], inplace=True)\n",
    "\n",
    "    # Create sorted tuples for each ATP match\n",
    "    matched_atp_matches_df = atp_matches_df[\n",
    "        atp_matches_df.apply(\n",
    "            lambda row: (\n",
    "                tuple(sorted([str(row['winner1_name']), str(row['winner2_name'])])),\n",
    "                tuple(sorted([str(row['loser1_name']), str(row['loser2_name'])]))\n",
    "            ) in davis_quads, axis=1\n",
    "        )\n",
    "    ]\n",
    "\n",
    "    # Append matched ATP matches to the final DataFrame\n",
    "    double_matches_df = pd.concat([double_matches_df, matched_atp_matches_df], ignore_index=True)\n",
    "\n",
    "if not double_matches_df.empty:\n",
    "    double_matches_df['year'] = double_matches_df['tourney_id'].astype(str).str.split('-').str[0].astype(int)\n",
    "    final_output_path = \"C:/Users/{}/Documents/GitHub/davis-cup/data/double matches/filtered_atp_matches_doubles.xlsx\"\n",
    "    double_matches_df.to_excel(final_output_path, index=False)\n",
    "else:\n",
    "    print(\"No matches found or 'tourney_id' column missing in all years.\")\n"
   ]
  },
  {
   "cell_type": "code",
   "execution_count": 128,
   "metadata": {},
   "outputs": [
    {
     "data": {
      "text/html": [
       "<div>\n",
       "<style scoped>\n",
       "    .dataframe tbody tr th:only-of-type {\n",
       "        vertical-align: middle;\n",
       "    }\n",
       "\n",
       "    .dataframe tbody tr th {\n",
       "        vertical-align: top;\n",
       "    }\n",
       "\n",
       "    .dataframe thead th {\n",
       "        text-align: right;\n",
       "    }\n",
       "</style>\n",
       "<table border=\"1\" class=\"dataframe\">\n",
       "  <thead>\n",
       "    <tr style=\"text-align: right;\">\n",
       "      <th></th>\n",
       "      <th></th>\n",
       "      <th></th>\n",
       "      <th></th>\n",
       "      <th></th>\n",
       "      <th></th>\n",
       "      <th></th>\n",
       "      <th></th>\n",
       "      <th></th>\n",
       "      <th></th>\n",
       "      <th></th>\n",
       "      <th></th>\n",
       "      <th></th>\n",
       "      <th></th>\n",
       "      <th></th>\n",
       "      <th></th>\n",
       "      <th></th>\n",
       "      <th></th>\n",
       "      <th></th>\n",
       "      <th></th>\n",
       "      <th>tourney_id</th>\n",
       "      <th>tourney_name</th>\n",
       "      <th>surface</th>\n",
       "      <th>draw_size</th>\n",
       "      <th>tourney_level</th>\n",
       "      <th>tourney_date</th>\n",
       "      <th>match_num</th>\n",
       "      <th>winner1_id</th>\n",
       "      <th>winner2_id</th>\n",
       "      <th>winner_seed</th>\n",
       "      <th>...</th>\n",
       "      <th>w_bpFaced</th>\n",
       "      <th>l_ace</th>\n",
       "      <th>l_df</th>\n",
       "      <th>l_svpt</th>\n",
       "      <th>l_1stIn</th>\n",
       "      <th>l_1stWon</th>\n",
       "      <th>l_2ndWon</th>\n",
       "      <th>l_SvGms</th>\n",
       "      <th>l_bpSaved</th>\n",
       "      <th>l_bpFaced</th>\n",
       "    </tr>\n",
       "  </thead>\n",
       "  <tbody>\n",
       "  </tbody>\n",
       "</table>\n",
       "<p>0 rows × 65 columns</p>\n",
       "</div>"
      ],
      "text/plain": [
       "Empty DataFrame\n",
       "Columns: [tourney_id, tourney_name, surface, draw_size, tourney_level, tourney_date, match_num, winner1_id, winner2_id, winner_seed, winner_entry, loser1_id, loser2_id, loser_seed, loser_entry, score, best_of, round, winner1_name, winner1_hand, winner1_ht, winner1_ioc, winner1_age, winner2_name, winner2_hand, winner2_ht, winner2_ioc, winner2_age, loser1_name, loser1_hand, loser1_ht, loser1_ioc, loser1_age, loser2_name, loser2_hand, loser2_ht, loser2_ioc, loser2_age, winner1_rank, winner1_rank_points, winner2_rank, winner2_rank_points, loser1_rank, loser1_rank_points, loser2_rank, loser2_rank_points, minutes, w_ace, w_df, w_svpt, w_1stIn, w_1stWon, w_2ndWon, w_SvGms, w_bpSaved, w_bpFaced, l_ace, l_df, l_svpt, l_1stIn, l_1stWon, l_2ndWon, l_SvGms, l_bpSaved, l_bpFaced]\n",
       "Index: []\n",
       "\n",
       "[0 rows x 65 columns]"
      ]
     },
     "execution_count": 128,
     "metadata": {},
     "output_type": "execute_result"
    }
   ],
   "source": [
    "double_matches_df"
   ]
  },
  {
   "cell_type": "markdown",
   "metadata": {},
   "source": [
    "# Exporting dataframes"
   ]
  },
  {
   "cell_type": "code",
   "execution_count": null,
   "metadata": {},
   "outputs": [],
   "source": [
    "file_path = f\"C:/Users/{user}/Documents/GitHub/davis-cup/data/singles_paired.xlsx\"\n",
    "\n",
    "# Export the DataFrame to an Excel file\n",
    "df_paired.to_excel(file_path, index=False)\n",
    "\n",
    "print(f\"DataFrame exported to {file_path}\")\n"
   ]
  },
  {
   "cell_type": "markdown",
   "metadata": {},
   "source": [
    "filtered_atp_matches.xlsx in single matches folder = final df for single matches"
   ]
  }
 ],
 "metadata": {
  "kernelspec": {
   "display_name": "Python 3",
   "language": "python",
   "name": "python3"
  },
  "language_info": {
   "codemirror_mode": {
    "name": "ipython",
    "version": 3
   },
   "file_extension": ".py",
   "mimetype": "text/x-python",
   "name": "python",
   "nbconvert_exporter": "python",
   "pygments_lexer": "ipython3",
   "version": "3.7.3"
  }
 },
 "nbformat": 4,
 "nbformat_minor": 2
}
